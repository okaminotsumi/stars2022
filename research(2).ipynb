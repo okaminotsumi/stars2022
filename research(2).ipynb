{
 "cells": [
  {
   "cell_type": "code",
   "execution_count": 79,
   "id": "f54b06a8",
   "metadata": {},
   "outputs": [
    {
     "data": {
      "text/plain": [
       "-89.5962"
      ]
     },
     "execution_count": 79,
     "metadata": {},
     "output_type": "execute_result"
    }
   ],
   "source": [
    "# galaxy #1\n",
    "from marvin.tools import maps\n",
    "import numpy as np\n",
    "from marvin.tools import Cube\n",
    "import matplotlib.pyplot as plt\n",
    "cube = Cube('8651-6101')\n",
    "maps1 = cube.getMaps()\n",
    "\n",
    "stellar_vel = maps1['stellar velocity']\n",
    "#stellar_vel.ployy)\n",
    "\n",
    "\n",
    "def Avg_vel(Y,X):\n",
    "    center = stellar_vel[27,28]\n",
    "    a1 = stellar_vel[27+Y,28+X]\n",
    "    vel = (a1.value)\n",
    "    return vel\n",
    "   \n",
    "Avg_vel(2,5)\n",
    "\n",
    "\n",
    "#for number in range (0,22,1):\n",
    "    #print(Avg_vel(number))\n",
    "    #plt.scatter(number, Avg_vel(number))\n",
    "    #plt.ylabel(' Velocity in Km/s')\n",
    "    #plt.xlabel(' radius from center in spaxel')\n",
    "#r = 31 spaxels\n"
   ]
  },
  {
   "cell_type": "code",
   "execution_count": null,
   "id": "1b268608",
   "metadata": {},
   "outputs": [],
   "source": [
    "# \n",
    "from marvin.tools import maps\n",
    "import numpy as np\n",
    "from marvin.tools import Cube\n",
    "import matplotlib.pyplot as plt\n",
    "cube = Cube('12683-12703')\n",
    "maps1 = cube.getMaps()\n",
    "\n",
    "stellar_vel = maps1['stellar velocity']\n",
    "#stellar_vel.ployy)\n",
    "center = stellar_vel[36,36]\n",
    "\n",
    "def Avg_vel(R):\n",
    "    a2 = stellar_vel[36+R,36]\n",
    "    a3 = stellar_vel[36-R,36]\n",
    "    a4 = stellar_vel[36,36-R]\n",
    "    a5 = stellar_vel[36,36 + R]\n",
    "    vel = (a2.value, a3.value,a4.value,a5.value)\n",
    "\n",
    "    np.mean(vel) \n",
    "    return np.mean(vel)\n",
    "Avg_vel(10)\n",
    "\n",
    "\n",
    "for number in range (0,22,1):\n",
    "    print(Avg_vel(number))\n",
    "    plt.scatter(number, Avg_vel(number))\n",
    "    plt.ylabel(' Velocity in Km/s')\n",
    "    plt.xlabel(' radius from center in spaxel')"
   ]
  },
  {
   "cell_type": "code",
   "execution_count": 69,
   "id": "6e954ee0",
   "metadata": {},
   "outputs": [
    {
     "data": {
      "text/latex": [
       "$257393.24 \\; \\mathrm{kpc}$"
      ],
      "text/plain": [
       "<Quantity 257393.23894 kpc>"
      ]
     },
     "execution_count": 69,
     "metadata": {},
     "output_type": "execute_result"
    }
   ],
   "source": [
    "from astropy import units as u\n",
    "from astropy.constants import c\n",
    "\n",
    "# extract the galaxy's redshift from the DAPall catalog\n",
    "redshift = 0.0601\n",
    "H0 = 70.0 * u.km / u.s / u.Mpc\n",
    "\n",
    "# compute the galaxy's distance\n",
    "D = c*redshift/H0\n",
    "D.to(u.kpc)"
   ]
  },
  {
   "cell_type": "code",
   "execution_count": 72,
   "id": "7b00c056",
   "metadata": {},
   "outputs": [
    {
     "data": {
      "text/latex": [
       "$0.62393882 \\; \\mathrm{kpc}$"
      ],
      "text/plain": [
       "<Quantity 0.62393882 kpc>"
      ]
     },
     "execution_count": 72,
     "metadata": {},
     "output_type": "execute_result"
    }
   ],
   "source": [
    "import astropy.units as u \n",
    "import numpy as np\n",
    "si = .25* u.arcsec\n",
    "alpha = si.to(u.deg)\n",
    "b = D.to(u.kpc)*np.tan(alpha)\n",
    "L = b *2\n",
    "L\n"
   ]
  },
  {
   "cell_type": "code",
   "execution_count": 14,
   "id": "d26eef72",
   "metadata": {},
   "outputs": [],
   "source": [
    "from marvin.tools import Maps\n",
    "maps = Maps('12683-12703', mode='remote')\n"
   ]
  },
  {
   "cell_type": "code",
   "execution_count": 17,
   "id": "53c1e7b4",
   "metadata": {},
   "outputs": [
    {
     "ename": "TypeError",
     "evalue": "'Maps' object is not callable",
     "output_type": "error",
     "traceback": [
      "\u001b[0;31m---------------------------------------------------------------------------\u001b[0m",
      "\u001b[0;31mTypeError\u001b[0m                                 Traceback (most recent call last)",
      "\u001b[0;32m<ipython-input-17-d8ab7a65add5>\u001b[0m in \u001b[0;36m<module>\u001b[0;34m\u001b[0m\n\u001b[1;32m      1\u001b[0m \u001b[0;32mimport\u001b[0m \u001b[0mnumpy\u001b[0m \u001b[0;32mas\u001b[0m \u001b[0mnp\u001b[0m\u001b[0;34m\u001b[0m\u001b[0;34m\u001b[0m\u001b[0m\n\u001b[0;32m----> 2\u001b[0;31m \u001b[0mstel_vel\u001b[0m \u001b[0;34m=\u001b[0m \u001b[0mmaps\u001b[0m\u001b[0;34m(\u001b[0m\u001b[0;34m'stellar velocity'\u001b[0m\u001b[0;34m)\u001b[0m\u001b[0;34m\u001b[0m\u001b[0;34m\u001b[0m\u001b[0m\n\u001b[0m\u001b[1;32m      3\u001b[0m \u001b[0mstel_vel\u001b[0m\u001b[0;34m.\u001b[0m\u001b[0mplot\u001b[0m\u001b[0;34m\u001b[0m\u001b[0;34m\u001b[0m\u001b[0m\n\u001b[1;32m      4\u001b[0m \u001b[0mstel_vel\u001b[0m\u001b[0;34m.\u001b[0m\u001b[0mvalue\u001b[0m\u001b[0;34m.\u001b[0m\u001b[0mshape\u001b[0m\u001b[0;34m\u001b[0m\u001b[0;34m\u001b[0m\u001b[0m\n",
      "\u001b[0;31mTypeError\u001b[0m: 'Maps' object is not callable"
     ]
    }
   ],
   "source": [
    "import numpy as np\n",
    "stel_vel = maps('stellar velocity')\n",
    "stel_vel.plot\n",
    "stel_vel.value.shape"
   ]
  },
  {
   "cell_type": "code",
   "execution_count": null,
   "id": "196f1b4d",
   "metadata": {},
   "outputs": [],
   "source": []
  }
 ],
 "metadata": {
  "kernelspec": {
   "display_name": "Python 3",
   "language": "python",
   "name": "python3"
  },
  "language_info": {
   "codemirror_mode": {
    "name": "ipython",
    "version": 3
   },
   "file_extension": ".py",
   "mimetype": "text/x-python",
   "name": "python",
   "nbconvert_exporter": "python",
   "pygments_lexer": "ipython3",
   "version": "3.6.13"
  }
 },
 "nbformat": 4,
 "nbformat_minor": 5
}
