{
 "cells": [
  {
   "cell_type": "code",
   "execution_count": 73,
   "id": "f54b06a8",
   "metadata": {},
   "outputs": [
    {
     "name": "stdout",
     "output_type": "stream",
     "text": [
      "-142.985\n",
      "-150.47775000000001\n",
      "-160.53425000000001\n",
      "-160.8005\n",
      "-161.2595\n",
      "-165.24225\n",
      "-164.37925\n",
      "-152.15325\n",
      "-152.15325\n",
      "-108.7425\n",
      "-88.71715\n",
      "-29.24805\n",
      "-22.5814\n",
      "-22.5814\n",
      "-22.5814\n",
      "0.0\n",
      "0.0\n",
      "0.0\n"
     ]
    },
    {
     "ename": "IndexError",
     "evalue": "index 54 is out of bounds for axis 0 with size 54",
     "output_type": "error",
     "traceback": [
      "\u001b[0;31m---------------------------------------------------------------------------\u001b[0m",
      "\u001b[0;31mIndexError\u001b[0m                                Traceback (most recent call last)",
      "\u001b[0;32m<ipython-input-73-48649e38ed69>\u001b[0m in \u001b[0;36m<module>\u001b[0;34m\u001b[0m\n\u001b[1;32m     24\u001b[0m \u001b[0;34m\u001b[0m\u001b[0m\n\u001b[1;32m     25\u001b[0m \u001b[0;32mfor\u001b[0m \u001b[0mnumber\u001b[0m \u001b[0;32min\u001b[0m \u001b[0mrange\u001b[0m \u001b[0;34m(\u001b[0m\u001b[0;36m0\u001b[0m\u001b[0;34m,\u001b[0m\u001b[0;36m22\u001b[0m\u001b[0;34m,\u001b[0m\u001b[0;36m1\u001b[0m\u001b[0;34m)\u001b[0m\u001b[0;34m:\u001b[0m\u001b[0;34m\u001b[0m\u001b[0;34m\u001b[0m\u001b[0m\n\u001b[0;32m---> 26\u001b[0;31m     \u001b[0mprint\u001b[0m\u001b[0;34m(\u001b[0m\u001b[0mAvg_vel\u001b[0m\u001b[0;34m(\u001b[0m\u001b[0mnumber\u001b[0m\u001b[0;34m)\u001b[0m\u001b[0;34m)\u001b[0m\u001b[0;34m\u001b[0m\u001b[0;34m\u001b[0m\u001b[0m\n\u001b[0m\u001b[1;32m     27\u001b[0m     \u001b[0mplt\u001b[0m\u001b[0;34m.\u001b[0m\u001b[0mscatter\u001b[0m\u001b[0;34m(\u001b[0m\u001b[0mnumber\u001b[0m\u001b[0;34m,\u001b[0m \u001b[0mAvg_vel\u001b[0m\u001b[0;34m(\u001b[0m\u001b[0mnumber\u001b[0m\u001b[0;34m)\u001b[0m\u001b[0;34m)\u001b[0m\u001b[0;34m\u001b[0m\u001b[0;34m\u001b[0m\u001b[0m\n\u001b[1;32m     28\u001b[0m     \u001b[0mplt\u001b[0m\u001b[0;34m.\u001b[0m\u001b[0mylabel\u001b[0m\u001b[0;34m(\u001b[0m\u001b[0;34m' Velocity in Km/s'\u001b[0m\u001b[0;34m)\u001b[0m\u001b[0;34m\u001b[0m\u001b[0;34m\u001b[0m\u001b[0m\n",
      "\u001b[0;32m<ipython-input-73-48649e38ed69>\u001b[0m in \u001b[0;36mAvg_vel\u001b[0;34m(R)\u001b[0m\n\u001b[1;32m     12\u001b[0m \u001b[0;34m\u001b[0m\u001b[0m\n\u001b[1;32m     13\u001b[0m \u001b[0;32mdef\u001b[0m \u001b[0mAvg_vel\u001b[0m\u001b[0;34m(\u001b[0m\u001b[0mR\u001b[0m\u001b[0;34m)\u001b[0m\u001b[0;34m:\u001b[0m\u001b[0;34m\u001b[0m\u001b[0;34m\u001b[0m\u001b[0m\n\u001b[0;32m---> 14\u001b[0;31m     \u001b[0ma2\u001b[0m \u001b[0;34m=\u001b[0m \u001b[0mstellar_vel\u001b[0m\u001b[0;34m[\u001b[0m\u001b[0;36m36\u001b[0m\u001b[0;34m+\u001b[0m\u001b[0mR\u001b[0m\u001b[0;34m,\u001b[0m\u001b[0;36m36\u001b[0m\u001b[0;34m]\u001b[0m\u001b[0;34m\u001b[0m\u001b[0;34m\u001b[0m\u001b[0m\n\u001b[0m\u001b[1;32m     15\u001b[0m     \u001b[0ma3\u001b[0m \u001b[0;34m=\u001b[0m \u001b[0mstellar_vel\u001b[0m\u001b[0;34m[\u001b[0m\u001b[0;36m36\u001b[0m\u001b[0;34m-\u001b[0m\u001b[0mR\u001b[0m\u001b[0;34m,\u001b[0m\u001b[0;36m36\u001b[0m\u001b[0;34m]\u001b[0m\u001b[0;34m\u001b[0m\u001b[0;34m\u001b[0m\u001b[0m\n\u001b[1;32m     16\u001b[0m     \u001b[0ma4\u001b[0m \u001b[0;34m=\u001b[0m \u001b[0mstellar_vel\u001b[0m\u001b[0;34m[\u001b[0m\u001b[0;36m36\u001b[0m\u001b[0;34m,\u001b[0m\u001b[0;36m36\u001b[0m\u001b[0;34m-\u001b[0m\u001b[0mR\u001b[0m\u001b[0;34m]\u001b[0m\u001b[0;34m\u001b[0m\u001b[0;34m\u001b[0m\u001b[0m\n",
      "\u001b[0;32m~/miniconda3/envs/astroconda/lib/python3.6/site-packages/marvin/tools/quantities/map.py\u001b[0m in \u001b[0;36m__getitem__\u001b[0;34m(self, sl)\u001b[0m\n\u001b[1;32m    110\u001b[0m     \u001b[0;32mdef\u001b[0m \u001b[0m__getitem__\u001b[0m\u001b[0;34m(\u001b[0m\u001b[0mself\u001b[0m\u001b[0;34m,\u001b[0m \u001b[0msl\u001b[0m\u001b[0;34m)\u001b[0m\u001b[0;34m:\u001b[0m\u001b[0;34m\u001b[0m\u001b[0;34m\u001b[0m\u001b[0m\n\u001b[1;32m    111\u001b[0m \u001b[0;34m\u001b[0m\u001b[0m\n\u001b[0;32m--> 112\u001b[0;31m         \u001b[0mnew_obj\u001b[0m \u001b[0;34m=\u001b[0m \u001b[0msuper\u001b[0m\u001b[0;34m(\u001b[0m\u001b[0mMap\u001b[0m\u001b[0;34m,\u001b[0m \u001b[0mself\u001b[0m\u001b[0;34m)\u001b[0m\u001b[0;34m.\u001b[0m\u001b[0m__getitem__\u001b[0m\u001b[0;34m(\u001b[0m\u001b[0msl\u001b[0m\u001b[0;34m)\u001b[0m\u001b[0;34m\u001b[0m\u001b[0;34m\u001b[0m\u001b[0m\n\u001b[0m\u001b[1;32m    113\u001b[0m \u001b[0;34m\u001b[0m\u001b[0m\n\u001b[1;32m    114\u001b[0m         \u001b[0;32mif\u001b[0m \u001b[0mtype\u001b[0m\u001b[0;34m(\u001b[0m\u001b[0mnew_obj\u001b[0m\u001b[0;34m)\u001b[0m \u001b[0;32mis\u001b[0m \u001b[0;32mnot\u001b[0m \u001b[0mtype\u001b[0m\u001b[0;34m(\u001b[0m\u001b[0mself\u001b[0m\u001b[0;34m)\u001b[0m\u001b[0;34m:\u001b[0m\u001b[0;34m\u001b[0m\u001b[0;34m\u001b[0m\u001b[0m\n",
      "\u001b[0;32m~/miniconda3/envs/astroconda/lib/python3.6/site-packages/astropy/units/quantity.py\u001b[0m in \u001b[0;36m__getitem__\u001b[0;34m(self, key)\u001b[0m\n\u001b[1;32m   1030\u001b[0m     \u001b[0;32mdef\u001b[0m \u001b[0m__getitem__\u001b[0m\u001b[0;34m(\u001b[0m\u001b[0mself\u001b[0m\u001b[0;34m,\u001b[0m \u001b[0mkey\u001b[0m\u001b[0;34m)\u001b[0m\u001b[0;34m:\u001b[0m\u001b[0;34m\u001b[0m\u001b[0;34m\u001b[0m\u001b[0m\n\u001b[1;32m   1031\u001b[0m         \u001b[0;32mtry\u001b[0m\u001b[0;34m:\u001b[0m\u001b[0;34m\u001b[0m\u001b[0;34m\u001b[0m\u001b[0m\n\u001b[0;32m-> 1032\u001b[0;31m             \u001b[0mout\u001b[0m \u001b[0;34m=\u001b[0m \u001b[0msuper\u001b[0m\u001b[0;34m(\u001b[0m\u001b[0;34m)\u001b[0m\u001b[0;34m.\u001b[0m\u001b[0m__getitem__\u001b[0m\u001b[0;34m(\u001b[0m\u001b[0mkey\u001b[0m\u001b[0;34m)\u001b[0m\u001b[0;34m\u001b[0m\u001b[0;34m\u001b[0m\u001b[0m\n\u001b[0m\u001b[1;32m   1033\u001b[0m         \u001b[0;32mexcept\u001b[0m \u001b[0mIndexError\u001b[0m\u001b[0;34m:\u001b[0m\u001b[0;34m\u001b[0m\u001b[0;34m\u001b[0m\u001b[0m\n\u001b[1;32m   1034\u001b[0m             \u001b[0;31m# We want zero-dimensional Quantity objects to behave like scalars,\u001b[0m\u001b[0;34m\u001b[0m\u001b[0;34m\u001b[0m\u001b[0;34m\u001b[0m\u001b[0m\n",
      "\u001b[0;31mIndexError\u001b[0m: index 54 is out of bounds for axis 0 with size 54"
     ]
    },
    {
     "data": {
      "image/png": "[encoded data removed]",
      "text/plain": [
       "<Figure size 432x288 with 1 Axes>"
      ]
     },
     "metadata": {
      "needs_background": "light"
     },
     "output_type": "display_data"
    }
   ],
   "source": [
    "# galaxy #1\n",
    "from marvin.tools import maps\n",
    "import numpy as np\n",
    "from marvin.tools import Cube\n",
    "import matplotlib.pyplot as plt\n",
    "cube = Cube('8651-6101')\n",
    "maps1 = cube.getMaps()\n",
    "\n",
    "stellar_vel = maps1['stellar velocity']\n",
    "#stellar_vel.ployy)\n",
    "center = stellar_vel[36,36]\n",
    "\n",
    "def Avg_vel(R):\n",
    "    a2 = stellar_vel[36+R,36]\n",
    "    a3 = stellar_vel[36-R,36]\n",
    "    a4 = stellar_vel[36,36-R]\n",
    "    a5 = stellar_vel[36,36 + R]\n",
    "    vel = (a2.value, a3.value,a4.value,a5.value)\n",
    "\n",
    "    np.mean(vel) \n",
    "    return np.mean(vel)\n",
    "Avg_vel(10)\n",
    "\n",
    "\n",
    "for number in range (0,22,1):\n",
    "    print(Avg_vel(number))\n",
    "    plt.scatter(number, Avg_vel(number))\n",
    "    plt.ylabel(' Velocity in Km/s')\n",
    "    plt.xlabel(' radius from center in spaxel')\n",
    "#r = 31 spaxels\n"
   ]
  },
  {
   "cell_type": "code",
   "execution_count": null,
   "id": "549402d2",
   "metadata": {},
   "outputs": [],
   "source": [
    "# \n",
    "from marvin.tools import maps\n",
    "import numpy as np\n",
    "from marvin.tools import Cube\n",
    "import matplotlib.pyplot as plt\n",
    "cube = Cube('12683-12703')\n",
    "maps1 = cube.getMaps()\n",
    "\n",
    "stellar_vel = maps1['stellar velocity']\n",
    "#stellar_vel.ployy)\n",
    "center = stellar_vel[36,36]\n",
    "\n",
    "def Avg_vel(R):\n",
    "    a2 = stellar_vel[36+R,36]\n",
    "    a3 = stellar_vel[36-R,36]\n",
    "    a4 = stellar_vel[36,36-R]\n",
    "    a5 = stellar_vel[36,36 + R]\n",
    "    vel = (a2.value, a3.value,a4.value,a5.value)\n",
    "\n",
    "    np.mean(vel) \n",
    "    return np.mean(vel)\n",
    "Avg_vel(10)\n",
    "\n",
    "\n",
    "for number in range (0,22,1):\n",
    "    print(Avg_vel(number))\n",
    "    plt.scatter(number, Avg_vel(number))\n",
    "    plt.ylabel(' Velocity in Km/s')\n",
    "    plt.xlabel(' radius from center in spaxel')"
   ]
  },
  {
   "cell_type": "code",
   "execution_count": 69,
   "id": "4faf1ec3",
   "metadata": {},
   "outputs": [
    {
     "data": {
      "text/latex": [
       "$257393.24 \\; \\mathrm{kpc}$"
      ],
      "text/plain": [
       "<Quantity 257393.23894 kpc>"
      ]
     },
     "execution_count": 69,
     "metadata": {},
     "output_type": "execute_result"
    }
   ],
   "source": [
    "from astropy import units as u\n",
    "from astropy.constants import c\n",
    "\n",
    "# extract the galaxy's redshift from the DAPall catalog\n",
    "redshift = 0.0601\n",
    "H0 = 70.0 * u.km / u.s / u.Mpc\n",
    "\n",
    "# compute the galaxy's distance\n",
    "D = c*redshift/H0\n",
    "D.to(u.kpc)"
   ]
  },
  {
   "cell_type": "code",
   "execution_count": 72,
   "id": "5d014862",
   "metadata": {},
   "outputs": [
    {
     "data": {
      "text/latex": [
       "$0.62393882 \\; \\mathrm{kpc}$"
      ],
      "text/plain": [
       "<Quantity 0.62393882 kpc>"
      ]
     },
     "execution_count": 72,
     "metadata": {},
     "output_type": "execute_result"
    }
   ],
   "source": [
    "import astropy.units as u \n",
    "import numpy as np\n",
    "si = .25* u.arcsec\n",
    "alpha = si.to(u.deg)\n",
    "b = D.to(u.kpc)*np.tan(alpha)\n",
    "L = b *2\n",
    "L\n"
   ]
  },
  {
   "cell_type": "code",
   "execution_count": 14,
   "id": "01a13fb8",
   "metadata": {},
   "outputs": [],
   "source": [
    "from marvin.tools import Maps\n",
    "maps = Maps('12683-12703', mode='remote')\n"
   ]
  },
  {
   "cell_type": "code",
   "execution_count": 17,
   "id": "99a7474a",
   "metadata": {},
   "outputs": [
    {
     "ename": "TypeError",
     "evalue": "'Maps' object is not callable",
     "output_type": "error",
     "traceback": [
      "\u001b[0;31m---------------------------------------------------------------------------\u001b[0m",
      "\u001b[0;31mTypeError\u001b[0m                                 Traceback (most recent call last)",
      "\u001b[0;32m<ipython-input-17-d8ab7a65add5>\u001b[0m in \u001b[0;36m<module>\u001b[0;34m\u001b[0m\n\u001b[1;32m      1\u001b[0m \u001b[0;32mimport\u001b[0m \u001b[0mnumpy\u001b[0m \u001b[0;32mas\u001b[0m \u001b[0mnp\u001b[0m\u001b[0;34m\u001b[0m\u001b[0;34m\u001b[0m\u001b[0m\n\u001b[0;32m----> 2\u001b[0;31m \u001b[0mstel_vel\u001b[0m \u001b[0;34m=\u001b[0m \u001b[0mmaps\u001b[0m\u001b[0;34m(\u001b[0m\u001b[0;34m'stellar velocity'\u001b[0m\u001b[0;34m)\u001b[0m\u001b[0;34m\u001b[0m\u001b[0;34m\u001b[0m\u001b[0m\n\u001b[0m\u001b[1;32m      3\u001b[0m \u001b[0mstel_vel\u001b[0m\u001b[0;34m.\u001b[0m\u001b[0mplot\u001b[0m\u001b[0;34m\u001b[0m\u001b[0;34m\u001b[0m\u001b[0m\n\u001b[1;32m      4\u001b[0m \u001b[0mstel_vel\u001b[0m\u001b[0;34m.\u001b[0m\u001b[0mvalue\u001b[0m\u001b[0;34m.\u001b[0m\u001b[0mshape\u001b[0m\u001b[0;34m\u001b[0m\u001b[0;34m\u001b[0m\u001b[0m\n",
      "\u001b[0;31mTypeError\u001b[0m: 'Maps' object is not callable"
     ]
    }
   ],
   "source": [
    "import numpy as np\n",
    "stel_vel = maps('stellar velocity')\n",
    "stel_vel.plot\n",
    "stel_vel.value.shape"
   ]
  },
  {
   "cell_type": "code",
   "execution_count": null,
   "id": "55a21916",
   "metadata": {},
   "outputs": [],
   "source": []
  }
 ],
 "metadata": {
  "kernelspec": {
   "display_name": "Python 3",
   "language": "python",
   "name": "python3"
  },
  "language_info": {
   "codemirror_mode": {
    "name": "ipython",
    "version": 3
   },
   "file_extension": ".py",
   "mimetype": "text/x-python",
   "name": "python",
   "nbconvert_exporter": "python",
   "pygments_lexer": "ipython3",
   "version": "3.6.13"
  }
 },
 "nbformat": 4,
 "nbformat_minor": 5
}
